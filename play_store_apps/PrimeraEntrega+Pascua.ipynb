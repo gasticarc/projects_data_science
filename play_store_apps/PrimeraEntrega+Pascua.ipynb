{
 "cells": [
  {
   "attachments": {},
   "cell_type": "markdown",
   "metadata": {},
   "source": [
    "# Primera Entrega - Proyecto Final\n",
    "### Dataset - Aplicaciones de Google Play Store\n",
    "Alumno: Gaston Pascua"
   ]
  },
  {
   "attachments": {},
   "cell_type": "markdown",
   "metadata": {},
   "source": [
    "### Hipotesis / Preguntas de interés:\n",
    "- Predecir el éxito de una aplicacion."
   ]
  },
  {
   "attachments": {},
   "cell_type": "markdown",
   "metadata": {},
   "source": [
    "## Librerias"
   ]
  },
  {
   "cell_type": "code",
   "execution_count": 17,
   "metadata": {},
   "outputs": [],
   "source": [
    "import pandas as pd\n",
    "import matplotlib as mpl\n",
    "import matplotlib.pyplot as plt\n",
    "import seaborn as sns\n",
    "import numpy as np\n",
    "from sklearn.preprocessing import LabelEncoder\n",
    "from sklearn.preprocessing import LabelEncoder\n",
    "from sklearn.linear_model import LinearRegression\n",
    "from sklearn.model_selection import train_test_split\n",
    "from sklearn.metrics import r2_score, mean_absolute_error, mean_squared_error"
   ]
  },
  {
   "attachments": {},
   "cell_type": "markdown",
   "metadata": {},
   "source": [
    "## Dataset"
   ]
  },
  {
   "cell_type": "code",
   "execution_count": 18,
   "metadata": {},
   "outputs": [
    {
     "data": {
      "text/html": [
       "<div>\n",
       "<style scoped>\n",
       "    .dataframe tbody tr th:only-of-type {\n",
       "        vertical-align: middle;\n",
       "    }\n",
       "\n",
       "    .dataframe tbody tr th {\n",
       "        vertical-align: top;\n",
       "    }\n",
       "\n",
       "    .dataframe thead th {\n",
       "        text-align: right;\n",
       "    }\n",
       "</style>\n",
       "<table border=\"1\" class=\"dataframe\">\n",
       "  <thead>\n",
       "    <tr style=\"text-align: right;\">\n",
       "      <th></th>\n",
       "      <th>App Name</th>\n",
       "      <th>App Id</th>\n",
       "      <th>Category</th>\n",
       "      <th>Rating</th>\n",
       "      <th>Rating Count</th>\n",
       "      <th>Installs</th>\n",
       "      <th>Minimum Installs</th>\n",
       "      <th>Maximum Installs</th>\n",
       "      <th>Free</th>\n",
       "      <th>Price</th>\n",
       "      <th>...</th>\n",
       "      <th>Developer Website</th>\n",
       "      <th>Developer Email</th>\n",
       "      <th>Released</th>\n",
       "      <th>Last Updated</th>\n",
       "      <th>Content Rating</th>\n",
       "      <th>Privacy Policy</th>\n",
       "      <th>Ad Supported</th>\n",
       "      <th>In App Purchases</th>\n",
       "      <th>Editors Choice</th>\n",
       "      <th>Scraped Time</th>\n",
       "    </tr>\n",
       "  </thead>\n",
       "  <tbody>\n",
       "    <tr>\n",
       "      <th>0</th>\n",
       "      <td>Gakondo</td>\n",
       "      <td>com.ishakwe.gakondo</td>\n",
       "      <td>Adventure</td>\n",
       "      <td>0.0</td>\n",
       "      <td>0.0</td>\n",
       "      <td>10+</td>\n",
       "      <td>10.0</td>\n",
       "      <td>15</td>\n",
       "      <td>True</td>\n",
       "      <td>0.0</td>\n",
       "      <td>...</td>\n",
       "      <td>https://beniyizibyose.tk/#/</td>\n",
       "      <td>jean21101999@gmail.com</td>\n",
       "      <td>Feb 26, 2020</td>\n",
       "      <td>Feb 26, 2020</td>\n",
       "      <td>Everyone</td>\n",
       "      <td>https://beniyizibyose.tk/projects/</td>\n",
       "      <td>False</td>\n",
       "      <td>False</td>\n",
       "      <td>False</td>\n",
       "      <td>2021-06-15 20:19:35</td>\n",
       "    </tr>\n",
       "    <tr>\n",
       "      <th>1</th>\n",
       "      <td>Ampere Battery Info</td>\n",
       "      <td>com.webserveis.batteryinfo</td>\n",
       "      <td>Tools</td>\n",
       "      <td>4.4</td>\n",
       "      <td>64.0</td>\n",
       "      <td>5,000+</td>\n",
       "      <td>5000.0</td>\n",
       "      <td>7662</td>\n",
       "      <td>True</td>\n",
       "      <td>0.0</td>\n",
       "      <td>...</td>\n",
       "      <td>https://webserveis.netlify.app/</td>\n",
       "      <td>webserveis@gmail.com</td>\n",
       "      <td>May 21, 2020</td>\n",
       "      <td>May 06, 2021</td>\n",
       "      <td>Everyone</td>\n",
       "      <td>https://dev4phones.wordpress.com/licencia-de-uso/</td>\n",
       "      <td>True</td>\n",
       "      <td>False</td>\n",
       "      <td>False</td>\n",
       "      <td>2021-06-15 20:19:35</td>\n",
       "    </tr>\n",
       "    <tr>\n",
       "      <th>2</th>\n",
       "      <td>Vibook</td>\n",
       "      <td>com.doantiepvien.crm</td>\n",
       "      <td>Productivity</td>\n",
       "      <td>0.0</td>\n",
       "      <td>0.0</td>\n",
       "      <td>50+</td>\n",
       "      <td>50.0</td>\n",
       "      <td>58</td>\n",
       "      <td>True</td>\n",
       "      <td>0.0</td>\n",
       "      <td>...</td>\n",
       "      <td>NaN</td>\n",
       "      <td>vnacrewit@gmail.com</td>\n",
       "      <td>Aug 9, 2019</td>\n",
       "      <td>Aug 19, 2019</td>\n",
       "      <td>Everyone</td>\n",
       "      <td>https://www.vietnamairlines.com/vn/en/terms-an...</td>\n",
       "      <td>False</td>\n",
       "      <td>False</td>\n",
       "      <td>False</td>\n",
       "      <td>2021-06-15 20:19:35</td>\n",
       "    </tr>\n",
       "    <tr>\n",
       "      <th>3</th>\n",
       "      <td>Smart City Trichy Public Service Vehicles 17UC...</td>\n",
       "      <td>cst.stJoseph.ug17ucs548</td>\n",
       "      <td>Communication</td>\n",
       "      <td>5.0</td>\n",
       "      <td>5.0</td>\n",
       "      <td>10+</td>\n",
       "      <td>10.0</td>\n",
       "      <td>19</td>\n",
       "      <td>True</td>\n",
       "      <td>0.0</td>\n",
       "      <td>...</td>\n",
       "      <td>http://www.climatesmarttech.com/</td>\n",
       "      <td>climatesmarttech2@gmail.com</td>\n",
       "      <td>Sep 10, 2018</td>\n",
       "      <td>Oct 13, 2018</td>\n",
       "      <td>Everyone</td>\n",
       "      <td>NaN</td>\n",
       "      <td>True</td>\n",
       "      <td>False</td>\n",
       "      <td>False</td>\n",
       "      <td>2021-06-15 20:19:35</td>\n",
       "    </tr>\n",
       "    <tr>\n",
       "      <th>4</th>\n",
       "      <td>GROW.me</td>\n",
       "      <td>com.horodyski.grower</td>\n",
       "      <td>Tools</td>\n",
       "      <td>0.0</td>\n",
       "      <td>0.0</td>\n",
       "      <td>100+</td>\n",
       "      <td>100.0</td>\n",
       "      <td>478</td>\n",
       "      <td>True</td>\n",
       "      <td>0.0</td>\n",
       "      <td>...</td>\n",
       "      <td>http://www.horodyski.com.pl</td>\n",
       "      <td>rmilekhorodyski@gmail.com</td>\n",
       "      <td>Feb 21, 2020</td>\n",
       "      <td>Nov 12, 2018</td>\n",
       "      <td>Everyone</td>\n",
       "      <td>http://www.horodyski.com.pl</td>\n",
       "      <td>False</td>\n",
       "      <td>False</td>\n",
       "      <td>False</td>\n",
       "      <td>2021-06-15 20:19:35</td>\n",
       "    </tr>\n",
       "  </tbody>\n",
       "</table>\n",
       "<p>5 rows × 24 columns</p>\n",
       "</div>"
      ],
      "text/plain": [
       "                                            App Name  \\\n",
       "0                                            Gakondo   \n",
       "1                                Ampere Battery Info   \n",
       "2                                             Vibook   \n",
       "3  Smart City Trichy Public Service Vehicles 17UC...   \n",
       "4                                            GROW.me   \n",
       "\n",
       "                       App Id       Category  Rating  Rating Count Installs  \\\n",
       "0         com.ishakwe.gakondo      Adventure     0.0           0.0      10+   \n",
       "1  com.webserveis.batteryinfo          Tools     4.4          64.0   5,000+   \n",
       "2        com.doantiepvien.crm   Productivity     0.0           0.0      50+   \n",
       "3     cst.stJoseph.ug17ucs548  Communication     5.0           5.0      10+   \n",
       "4        com.horodyski.grower          Tools     0.0           0.0     100+   \n",
       "\n",
       "   Minimum Installs  Maximum Installs  Free  Price  ...  \\\n",
       "0              10.0                15  True    0.0  ...   \n",
       "1            5000.0              7662  True    0.0  ...   \n",
       "2              50.0                58  True    0.0  ...   \n",
       "3              10.0                19  True    0.0  ...   \n",
       "4             100.0               478  True    0.0  ...   \n",
       "\n",
       "                  Developer Website              Developer Email  \\\n",
       "0       https://beniyizibyose.tk/#/       jean21101999@gmail.com   \n",
       "1   https://webserveis.netlify.app/         webserveis@gmail.com   \n",
       "2                               NaN          vnacrewit@gmail.com   \n",
       "3  http://www.climatesmarttech.com/  climatesmarttech2@gmail.com   \n",
       "4       http://www.horodyski.com.pl    rmilekhorodyski@gmail.com   \n",
       "\n",
       "       Released  Last Updated Content Rating  \\\n",
       "0  Feb 26, 2020  Feb 26, 2020       Everyone   \n",
       "1  May 21, 2020  May 06, 2021       Everyone   \n",
       "2   Aug 9, 2019  Aug 19, 2019       Everyone   \n",
       "3  Sep 10, 2018  Oct 13, 2018       Everyone   \n",
       "4  Feb 21, 2020  Nov 12, 2018       Everyone   \n",
       "\n",
       "                                      Privacy Policy Ad Supported  \\\n",
       "0                 https://beniyizibyose.tk/projects/        False   \n",
       "1  https://dev4phones.wordpress.com/licencia-de-uso/         True   \n",
       "2  https://www.vietnamairlines.com/vn/en/terms-an...        False   \n",
       "3                                                NaN         True   \n",
       "4                        http://www.horodyski.com.pl        False   \n",
       "\n",
       "  In App Purchases Editors Choice         Scraped Time  \n",
       "0            False          False  2021-06-15 20:19:35  \n",
       "1            False          False  2021-06-15 20:19:35  \n",
       "2            False          False  2021-06-15 20:19:35  \n",
       "3            False          False  2021-06-15 20:19:35  \n",
       "4            False          False  2021-06-15 20:19:35  \n",
       "\n",
       "[5 rows x 24 columns]"
      ]
     },
     "execution_count": 18,
     "metadata": {},
     "output_type": "execute_result"
    }
   ],
   "source": [
    "df = pd.read_csv(\"data/apps.csv\")\n",
    "df.head()"
   ]
  },
  {
   "cell_type": "code",
   "execution_count": 19,
   "metadata": {},
   "outputs": [
    {
     "name": "stdout",
     "output_type": "stream",
     "text": [
      "<class 'pandas.core.frame.DataFrame'>\n",
      "RangeIndex: 2312944 entries, 0 to 2312943\n",
      "Data columns (total 24 columns):\n",
      " #   Column             Dtype  \n",
      "---  ------             -----  \n",
      " 0   App Name           object \n",
      " 1   App Id             object \n",
      " 2   Category           object \n",
      " 3   Rating             float64\n",
      " 4   Rating Count       float64\n",
      " 5   Installs           object \n",
      " 6   Minimum Installs   float64\n",
      " 7   Maximum Installs   int64  \n",
      " 8   Free               bool   \n",
      " 9   Price              float64\n",
      " 10  Currency           object \n",
      " 11  Size               object \n",
      " 12  Minimum Android    object \n",
      " 13  Developer Id       object \n",
      " 14  Developer Website  object \n",
      " 15  Developer Email    object \n",
      " 16  Released           object \n",
      " 17  Last Updated       object \n",
      " 18  Content Rating     object \n",
      " 19  Privacy Policy     object \n",
      " 20  Ad Supported       bool   \n",
      " 21  In App Purchases   bool   \n",
      " 22  Editors Choice     bool   \n",
      " 23  Scraped Time       object \n",
      "dtypes: bool(4), float64(4), int64(1), object(15)\n",
      "memory usage: 361.8+ MB\n"
     ]
    }
   ],
   "source": [
    "df.info()"
   ]
  },
  {
   "attachments": {},
   "cell_type": "markdown",
   "metadata": {},
   "source": [
    "## Preparacion y limpieza "
   ]
  },
  {
   "cell_type": "code",
   "execution_count": 20,
   "metadata": {},
   "outputs": [
    {
     "name": "stdout",
     "output_type": "stream",
     "text": [
      "Registros duplicados:  0\n"
     ]
    }
   ],
   "source": [
    "print(\"Registros duplicados: \",df.duplicated().sum())"
   ]
  },
  {
   "attachments": {},
   "cell_type": "markdown",
   "metadata": {},
   "source": [
    "### Reducción Dimensionalidad"
   ]
  },
  {
   "attachments": {},
   "cell_type": "markdown",
   "metadata": {},
   "source": [
    "#### Eliminacion variables irrelevantes y con datos faltantes\n",
    "--> Privacy Policy e installs poseen muchos datos faltantes\n",
    "\n",
    "--> Variables irrelevantes: App Name,App Id,Minimum Installs, Developer Website, Developer Id, Developer Email, Scraped Time,Currency"
   ]
  },
  {
   "cell_type": "code",
   "execution_count": 21,
   "metadata": {},
   "outputs": [
    {
     "data": {
      "text/plain": [
       "App Name                  2\n",
       "App Id                    0\n",
       "Category                  0\n",
       "Rating                22883\n",
       "Rating Count          22883\n",
       "Installs                107\n",
       "Minimum Installs        107\n",
       "Maximum Installs          0\n",
       "Free                      0\n",
       "Price                     0\n",
       "Currency                135\n",
       "Size                    196\n",
       "Minimum Android        6530\n",
       "Developer Id             33\n",
       "Developer Website    760835\n",
       "Developer Email          31\n",
       "Released              71053\n",
       "Last Updated              0\n",
       "Content Rating            0\n",
       "Privacy Policy       420953\n",
       "Ad Supported              0\n",
       "In App Purchases          0\n",
       "Editors Choice            0\n",
       "Scraped Time              0\n",
       "dtype: int64"
      ]
     },
     "execution_count": 21,
     "metadata": {},
     "output_type": "execute_result"
    }
   ],
   "source": [
    "df.isnull().sum()"
   ]
  },
  {
   "cell_type": "code",
   "execution_count": 22,
   "metadata": {},
   "outputs": [],
   "source": [
    "eliminar = ['App Name','App Id','Minimum Installs','Installs','Developer Website', 'Developer Id', 'Developer Email', 'Scraped Time','Currency','Privacy Policy']\n",
    "df.drop(eliminar, axis='columns', inplace=True)\n",
    "assert df.columns.all() not in eliminar\n",
    "df.dropna(inplace=True)"
   ]
  },
  {
   "cell_type": "code",
   "execution_count": 23,
   "metadata": {},
   "outputs": [
    {
     "name": "stdout",
     "output_type": "stream",
     "text": [
      "              Rating     Rating Count   Maximum Installs          Price\n",
      "count 2235331.000000   2235331.000000     2235331.000000 2235331.000000\n",
      "mean        2.206450      2759.848774      308112.878088       0.104767\n",
      "std         2.108360    198757.209433    22088539.515041       2.660892\n",
      "min         0.000000         0.000000           0.000000       0.000000\n",
      "25%         0.000000         0.000000          86.000000       0.000000\n",
      "50%         3.000000         6.000000         706.000000       0.000000\n",
      "75%         4.300000        42.000000        7427.000000       0.000000\n",
      "max         5.000000 138557570.000000 12057627016.000000     400.000000\n"
     ]
    }
   ],
   "source": [
    "with pd.option_context('float_format', '{:f}'.format):\n",
    "    print(df.describe())\n",
    "#Observamos los datos con valores correctos\n",
    "#La columna precio es posible que se elimine, ademas que el dataset posee pocas aplicaciones pagas."
   ]
  },
  {
   "attachments": {},
   "cell_type": "markdown",
   "metadata": {},
   "source": [
    "### Transformacion de la variable \"Size\" a tipo float"
   ]
  },
  {
   "cell_type": "code",
   "execution_count": 24,
   "metadata": {},
   "outputs": [],
   "source": [
    "#Funcion convertir valor a float\n",
    "def value_to_float(x):\n",
    "    if type(x) == float or type(x) == int:\n",
    "        return x  \n",
    "    if 'K' in x:\n",
    "        if len(x) > 1:\n",
    "            return float(x.replace('K', '')) * 1000\n",
    "        return 1000.0\n",
    "    if 'M' in x:\n",
    "        if len(x) > 1:\n",
    "            return float(x.replace('M', '')) * 1000000\n",
    "        return 1000000.0\n",
    "    if 'B' in x:\n",
    "        return float(x.replace('B', '')) * 1000000000\n",
    "    return 0.0\n",
    "\n",
    "df['Size'] = df['Size'].str.replace(',','')\n",
    "df['Size'] = df['Size'].apply(value_to_float)"
   ]
  },
  {
   "attachments": {},
   "cell_type": "markdown",
   "metadata": {},
   "source": [
    "### Transformación Categórica"
   ]
  },
  {
   "cell_type": "code",
   "execution_count": 25,
   "metadata": {},
   "outputs": [],
   "source": [
    "#Content Rating\n",
    "lbl_content_rating=LabelEncoder()\n",
    "df['Content Rating']=lbl_content_rating.fit_transform(df['Content Rating'])\n",
    "\n",
    "#Minimum Android\n",
    "def min_android(data):\n",
    "    p=data.split()\n",
    "    if data=='Varies with device':\n",
    "        return 4.0\n",
    "    else:\n",
    "        return float(p[0][:3])\n",
    "df['Minimum Android']=df['Minimum Android'].apply(min_android)\n",
    "\n",
    "#Category\n",
    "lbl_category=LabelEncoder()\n",
    "df['Category']=lbl_category.fit_transform(df['Category'])\n",
    "\n",
    "#Elimino Released y Last update\n",
    "df.drop(['Released','Last Updated'],inplace=True,axis=1)\n",
    "\n",
    "#Variables booleanas\n",
    "df['Free']=pd.Categorical(df['Free'],ordered=True,categories=[False,True]).codes\n",
    "df['Ad Supported']=pd.Categorical(df['Ad Supported'],ordered=True,categories=[False,True]).codes\n",
    "df['In App Purchases']=pd.Categorical(df['In App Purchases'],ordered=True,categories=[False,True]).codes\n",
    "df['Editors Choice']=pd.Categorical(df['Editors Choice'],ordered=True,categories=[False,True]).codes"
   ]
  },
  {
   "attachments": {},
   "cell_type": "markdown",
   "metadata": {},
   "source": [
    "## Modelado - Regresión Lineal"
   ]
  },
  {
   "cell_type": "code",
   "execution_count": 26,
   "metadata": {},
   "outputs": [],
   "source": [
    "x= df.drop('Rating',axis=1)\n",
    "y= df['Rating']\n",
    "x_train, x_test, y_train, y_test = train_test_split(x, y, test_size=0.25, random_state=1) "
   ]
  },
  {
   "cell_type": "code",
   "execution_count": 27,
   "metadata": {},
   "outputs": [
    {
     "name": "stdout",
     "output_type": "stream",
     "text": [
      "MAE:  1.9415331428885065\n",
      "RMSE:  2.0522533107534375\n",
      "R2:  0.05220852206709736\n"
     ]
    }
   ],
   "source": [
    "model_1=LinearRegression()\n",
    "model_1.fit(x_train,y_train)\n",
    "\n",
    "pred = model_1.predict(x_test)\n",
    "\n",
    "mae = mean_absolute_error(y_test, pred)\n",
    "mse = mean_squared_error(y_test, pred)\n",
    "r2 = r2_score(y_test,pred)\n",
    "\n",
    "print('MAE: ', mae)\n",
    "print('RMSE: ', np.sqrt(mse))\n",
    "print('R2: ', r2)"
   ]
  },
  {
   "cell_type": "code",
   "execution_count": 28,
   "metadata": {},
   "outputs": [
    {
     "data": {
      "text/plain": [
       "[<matplotlib.lines.Line2D at 0x2285a3d59a0>]"
      ]
     },
     "execution_count": 28,
     "metadata": {},
     "output_type": "execute_result"
    },
    {
     "data": {
      "image/png": "[encoded data removed]",
      "text/plain": [
       "<Figure size 640x480 with 1 Axes>"
      ]
     },
     "metadata": {},
     "output_type": "display_data"
    }
   ],
   "source": [
    "plt.scatter(y_train,model_1.predict(x_train))\n",
    "plt.plot(y_train,y_train,'r')"
   ]
  },
  {
   "attachments": {},
   "cell_type": "markdown",
   "metadata": {},
   "source": [
    "## Modelado - Decision Tree Regressor"
   ]
  },
  {
   "cell_type": "code",
   "execution_count": 29,
   "metadata": {},
   "outputs": [],
   "source": [
    "from sklearn.tree import DecisionTreeRegressor"
   ]
  },
  {
   "cell_type": "code",
   "execution_count": 30,
   "metadata": {},
   "outputs": [
    {
     "name": "stdout",
     "output_type": "stream",
     "text": [
      "MAE:  0.24778867964223966\n",
      "RMSE:  0.45318690886069324\n",
      "R2:  0.9537825924178847\n"
     ]
    }
   ],
   "source": [
    "model_2=DecisionTreeRegressor(max_depth=9)\n",
    "model_2.fit(x_train,y_train)\n",
    "\n",
    "pred = model_2.predict(x_test)\n",
    "\n",
    "mae = mean_absolute_error(y_test, pred)\n",
    "mse = mean_squared_error(y_test, pred)\n",
    "r2 = r2_score(y_test,pred)\n",
    "\n",
    "print('MAE: ', mae)\n",
    "print('RMSE: ', np.sqrt(mse))\n",
    "print('R2: ', r2)"
   ]
  },
  {
   "attachments": {},
   "cell_type": "markdown",
   "metadata": {},
   "source": [
    "## Modelado - Random Forest Regressor"
   ]
  },
  {
   "cell_type": "code",
   "execution_count": 31,
   "metadata": {},
   "outputs": [],
   "source": [
    "from sklearn.ensemble import  RandomForestRegressor"
   ]
  },
  {
   "cell_type": "code",
   "execution_count": 32,
   "metadata": {},
   "outputs": [
    {
     "name": "stdout",
     "output_type": "stream",
     "text": [
      "MAE:  0.24663447615151077\n",
      "RMSE:  0.4511742740024192\n",
      "R2:  0.954192190366599\n"
     ]
    }
   ],
   "source": [
    "model_3=RandomForestRegressor(max_depth=9)\n",
    "model_3.fit(x_train,y_train)\n",
    "\n",
    "pred = model_3.predict(x_test)\n",
    "\n",
    "mae = mean_absolute_error(y_test, pred)\n",
    "mse = mean_squared_error(y_test, pred)\n",
    "r2 = r2_score(y_test,pred)\n",
    "\n",
    "print('MAE: ', mae)\n",
    "print('RMSE: ', np.sqrt(mse))\n",
    "print('R2: ', r2)"
   ]
  },
  {
   "attachments": {},
   "cell_type": "markdown",
   "metadata": {},
   "source": [
    "### Conclusiones\n",
    "Considero que tanto los modelos Random Forest como Decision Tree se adaptan mejor en la predicción.\n",
    "\n",
    "Por ejemplo con el modelo de regresion lineal se observa claramante un Underfitting. \n",
    "Una posible solucion seria tratar los outliers, ya que en variables como precio e instalaciones hay grandes distancias en los valores."
   ]
  }
 ],
 "metadata": {
  "kernelspec": {
   "display_name": "Python 3.9.13 ('base')",
   "language": "python",
   "name": "python3"
  },
  "language_info": {
   "codemirror_mode": {
    "name": "ipython",
    "version": 3
   },
   "file_extension": ".py",
   "mimetype": "text/x-python",
   "name": "python",
   "nbconvert_exporter": "python",
   "pygments_lexer": "ipython3",
   "version": "3.9.13"
  },
  "orig_nbformat": 4,
  "vscode": {
   "interpreter": {
    "hash": "6258ed8163825121cb1f772e8deaddce3cacc1aefd7514be7c5bbeeeb811ef03"
   }
  }
 },
 "nbformat": 4,
 "nbformat_minor": 2
}
